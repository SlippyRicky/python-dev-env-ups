{
 "cells": [
  {
   "cell_type": "markdown",
   "metadata": {},
   "source": [
    "# Python Programming Environment Demo\n",
    "\n",
    "This notebook demonstrates the use of the installed packages in our environment."
   ]
  },
  {
   "cell_type": "code",
   "execution_count": null,
   "metadata": {},
   "outputs": [],
   "source": [
    "# Import required libraries\n",
    "import numpy as np\n",
    "import pandas as pd\n",
    "import matplotlib.pyplot as plt\n",
    "from src.example import calculate_statistics, create_sample_dataframe"
   ]
  },
  {
   "cell_type": "markdown",
   "metadata": {},
   "source": [
    "## Working with NumPy"
   ]
  },
  {
   "cell_type": "code",
   "execution_count": null,
   "metadata": {},
   "outputs": [],
   "source": [
    "# Create a numpy array\n",
    "data = np.array([1, 2, 3, 4, 5, 6, 7, 8, 9, 10])\n",
    "print(f\"Data: {data}\")\n",
    "print(f\"Mean: {np.mean(data)}\")\n",
    "print(f\"Standard deviation: {np.std(data)}\")"
   ]
  },
  {
   "cell_type": "markdown",
   "metadata": {},
   "source": [
    "## Working with Pandas"
   ]
  },
  {
   "cell_type": "code",
   "execution_count": null,
   "metadata": {},
   "outputs": [],
   "source": [
    "# Create and display the sample dataframe\n",
    "df = create_sample_dataframe()\n",
    "print(\"Sample DataFrame:\")\n",
    "display(df)"
   ]
  },
  {
   "cell_type": "code",
   "execution_count": null,
   "metadata": {},
   "outputs": [],
   "source": [
    "# Basic data analysis\n",
    "print(\"DataFrame Description:\")\n",
    "display(df.describe())"
   ]
  },
  {
   "cell_type": "markdown",
   "metadata": {},
   "source": [
    "## Data Visualization with Matplotlib"
   ]
  },
  {
   "cell_type": "code",
   "execution_count": null,
   "metadata": {},
   "outputs": [],
   "source": [
    "# Create a plot\n",
    "plt.figure(figsize=(12, 4))\n",
    "\n",
    "# Subplot 1: Bar chart\n",
    "plt.subplot(1, 2, 1)\n",
    "plt.bar(df['name'], df['score'], color=['skyblue', 'lightgreen', 'orange', 'pink', 'lightcoral'])\n",
    "plt.title('Scores by Person')\n",
    "plt.xlabel('Name')\n",
    "plt.ylabel('Score')\n",
    "plt.xticks(rotation=45)\n",
    "\n",
    "# Subplot 2: Scatter plot\n",
    "plt.subplot(1, 2, 2)\n",
    "plt.scatter(df['age'], df['score'], s=100, alpha=0.7, color='purple')\n",
    "plt.title('Score vs Age')\n",
    "plt.xlabel('Age')\n",
    "plt.ylabel('Score')\n",
    "\n",
    "# Add name labels to points\n",
    "for i, name in enumerate(df['name']):\n",
    "    plt.annotate(name, (df['age'][i], df['score'][i]), \n",
    "                xytext=(5, 5), textcoords='offset points', fontsize=8)\n",
    "\n",
    "plt.tight_layout()\n",
    "plt.show()"
   ]
  },
  {
   "cell_type": "markdown",
   "metadata": {},
   "source": [
    "## Using Our Custom Functions"
   ]
  },
  {
   "cell_type": "code",
   "execution_count": null,
   "metadata": {},
   "outputs": [],
   "source": [
    "# Test our statistics function\n",
    "test_data = [10, 15, 20, 25, 30, 35, 40]\n",
    "stats = calculate_statistics(test_data)\n",
    "\n",
    "print(f\"Test data: {test_data}\")\n",
    "print(f\"Statistics: {stats}\")"
   ]
  },
  {
   "cell_type": "markdown",
   "metadata": {},
   "source": [
    "## Try Your Own Code Here!\n",
    "\n",
    "Use the cell below to experiment with Python code:"
   ]
  },
  {
   "cell_type": "code",
   "execution_count": null,
   "metadata": {},
   "outputs": [],
   "source": [
    "# Your code here!\n"
   ]
  }
 ],
 "metadata": {
  "kernelspec": {
   "display_name": "Python 3",
   "language": "python",
   "name": "python3"
  },
  "language_info": {
   "codemirror_mode": {
    "name": "ipython",
    "version": 3
   },
   "file_extension": ".py",
   "mimetype": "text/x-python",
   "name": "python",
   "nbconvert_exporter": "python",
   "pygments_lexer": "ipython3",
   "version": "3.9.6"
  }
 },
 "nbformat": 4,
 "nbformat_minor": 4
}